{
 "cells": [
  {
   "cell_type": "code",
   "execution_count": 10,
   "id": "8f4351f4",
   "metadata": {},
   "outputs": [],
   "source": [
    "import pandas as pd\n",
    "import numpy as np\n",
    "import matplotlib.pyplot as plt\n",
    "from tqdm import tqdm"
   ]
  },
  {
   "cell_type": "code",
   "execution_count": 5,
   "id": "3815ad13",
   "metadata": {},
   "outputs": [],
   "source": [
    "def latin_hypercube_2d_uniform(n): # where n = sample size\n",
    "    lower_limits=np.arange(0,n)/n\n",
    "    upper_limits=np.arange(1,n+1)/n\n",
    "\n",
    "    points=np.random.uniform(low=lower_limits,high=upper_limits,size=[2,n]).T\n",
    "    np.random.shuffle(points[:,1])\n",
    "    return points"
   ]
  },
  {
   "cell_type": "code",
   "execution_count": 4,
   "id": "b74fa7f5",
   "metadata": {},
   "outputs": [
    {
     "data": {
      "text/plain": [
       "<function matplotlib.pyplot.show(close=None, block=None)>"
      ]
     },
     "execution_count": 4,
     "metadata": {},
     "output_type": "execute_result"
    },
    {
     "data": {
      "image/png": "[encoded data removed]",
      "text/plain": [
       "<Figure size 500x500 with 1 Axes>"
      ]
     },
     "metadata": {},
     "output_type": "display_data"
    }
   ],
   "source": [
    "n=20\n",
    "p=latin_hypercube_2d_uniform(n)\n",
    "plt.figure(figsize=[5,5])\n",
    "plt.xlim([0,1])\n",
    "plt.ylim([0,1])\n",
    "plt.scatter(p[:,0],p[:,1],c='r')\n",
    "\n",
    "for i in np.arange(0,1,1/n):\n",
    "    plt.axvline(i)\n",
    "    plt.axhline(i)\n",
    "plt.show"
   ]
  },
  {
   "cell_type": "code",
   "execution_count": 11,
   "id": "8a00c90b",
   "metadata": {},
   "outputs": [],
   "source": [
    "# 28 parameters\n",
    "# 7 factors\n",
    "def latin_hypercube(n, D, random_seed):\n",
    "    if random_seed is not None:\n",
    "        np.random.seed(random_seed)\n",
    "    cut = np.linspace(0, 1, n + 1)\n",
    "    u = np.random.rand(n, D)  # random points inside each stratum\n",
    "    samples = np.zeros_like(u)\n",
    "\n",
    "    for j in range(D):\n",
    "        # permute strata for each dimension independently\n",
    "        perm = np.random.permutation(n)\n",
    "        samples[:, j] = cut[:-1] + u[perm, j] * (1.0 / n)\n",
    "\n",
    "    return samples"
   ]
  },
  {
   "cell_type": "code",
   "execution_count": 12,
   "id": "001390fc",
   "metadata": {},
   "outputs": [
    {
     "name": "stdout",
     "output_type": "stream",
     "text": [
      "(100, 27)\n",
      "[[0.00753428 0.00997934 0.00860122 0.00900418 0.00597413 0.00026511\n",
      "  0.00355493 0.00886604 0.00066444 0.00057087 0.00556763 0.0041413\n",
      "  0.00254392 0.00384207 0.00452199 0.00386735 0.00043739 0.00812901\n",
      "  0.00023352 0.00081759 0.00305604 0.00100637 0.0008163  0.00934367\n",
      "  0.00679647 0.0062586  0.00440763]\n",
      " [0.01465206 0.01134415 0.01743508 0.01161221 0.01217893 0.01640826\n",
      "  0.01507468 0.01887213 0.01293489 0.01770912 0.01142137 0.01546648\n",
      "  0.01872124 0.01882416 0.01250967 0.01522733 0.01101782 0.01524756\n",
      "  0.01431945 0.01815461 0.01131489 0.01165955 0.01900083 0.01303946\n",
      "  0.01971058 0.01450351 0.01474214]\n",
      " [0.02862043 0.02637201 0.02412622 0.02841448 0.02391082 0.02082172\n",
      "  0.02591275 0.02133828 0.02977174 0.02207886 0.02417767 0.02684233\n",
      "  0.0280744  0.02295041 0.02927178 0.02791579 0.02803026 0.02269243\n",
      "  0.02018391 0.02927001 0.0261062  0.02303275 0.02132716 0.02841829\n",
      "  0.02505252 0.02938305 0.02201627]]\n"
     ]
    }
   ],
   "source": [
    "# 27 parameters, 100 samples\n",
    "samples = latin_hypercube(n=100, D=27, random_seed=42)\n",
    "print(samples.shape)\n",
    "print(samples[:3])"
   ]
  },
  {
   "cell_type": "code",
   "execution_count": null,
   "id": "f7d24671",
   "metadata": {},
   "outputs": [],
   "source": []
  }
 ],
 "metadata": {
  "kernelspec": {
   "display_name": ".venv",
   "language": "python",
   "name": "python3"
  },
  "language_info": {
   "codemirror_mode": {
    "name": "ipython",
    "version": 3
   },
   "file_extension": ".py",
   "mimetype": "text/x-python",
   "name": "python",
   "nbconvert_exporter": "python",
   "pygments_lexer": "ipython3",
   "version": "3.13.5"
  }
 },
 "nbformat": 4,
 "nbformat_minor": 5
}
